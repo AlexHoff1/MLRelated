{
 "cells": [
  {
   "cell_type": "markdown",
   "metadata": {},
   "source": [
    "Modify the location to open up a new ckpt file."
   ]
  },
  {
   "cell_type": "code",
   "execution_count": null,
   "metadata": {
    "collapsed": true
   },
   "outputs": [],
   "source": [
    "location = ''\n",
    "\n",
    "#Add name: shape\n",
    "#EXAMPLE: = {\"hi\":shape[2,2], \"I'm\":shape[5], \"an\":shape[5,5], \"example\":shape[10,10,5]}\n",
    "varToShapeMapping = {}"
   ]
  },
  {
   "cell_type": "code",
   "execution_count": 1,
   "metadata": {
    "collapsed": true
   },
   "outputs": [],
   "source": [
    "import re\n",
    "import tensorflow as tf\n",
    "\n",
    "def loadCheckpoint():\n",
    "    file_location = addCkpt()\n",
    "    #Extra layer of abstraction, loadCkpt strictly loads a ckpt if it exists\n",
    "    try:\n",
    "        loadCkpt(file_location)\n",
    "        print('Successfully loaded checkpoint at: ' + location)\n",
    "    except:\n",
    "        print('Failed to load checkpoint.')\n",
    "\n",
    "def addCkpt():\n",
    "    # If the end of the file is ckpt then we don't need to append it.\n",
    "    if re.search('\\.ckpt$', location):\n",
    "        location = location\n",
    "    else:\n",
    "        location = location + '.ckpt'\n",
    "\n",
    "def loadCkpt(file_location):\n",
    "    tf.reset_default_graph()\n",
    "    for var, varShape in varToShapeMapping.iteritems():\n",
    "        test = tf.get_variable(var, varShape)\n",
    "    saver = tf.train.Saver()\n",
    "    with tf.Session() as sess:\n",
    "        saver.restore(sess, file_location)\n",
    "        print('Model restored!')\n",
    "        print('But the variables aren\\'t setup.')"
   ]
  },
  {
   "cell_type": "code",
   "execution_count": null,
   "metadata": {
    "collapsed": true
   },
   "outputs": [],
   "source": []
  }
 ],
 "metadata": {
  "kernelspec": {
   "display_name": "Python 3",
   "language": "python",
   "name": "python3"
  },
  "language_info": {
   "codemirror_mode": {
    "name": "ipython",
    "version": 3
   },
   "file_extension": ".py",
   "mimetype": "text/x-python",
   "name": "python",
   "nbconvert_exporter": "python",
   "pygments_lexer": "ipython3",
   "version": "3.6.2"
  }
 },
 "nbformat": 4,
 "nbformat_minor": 2
}
