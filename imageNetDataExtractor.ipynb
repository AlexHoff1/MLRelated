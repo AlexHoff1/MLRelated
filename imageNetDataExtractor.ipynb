{
 "cells": [
  {
   "cell_type": "code",
   "execution_count": 11,
   "metadata": {
    "collapsed": true
   },
   "outputs": [],
   "source": [
    "import os\n",
    "import numpy\n",
    "\n",
    "def makeDir():\n",
    "    #standard directory name for data\n",
    "    directory_name = './data'\n",
    "    \n",
    "    # Makes the directory\n",
    "    try:\n",
    "        os.stat(directory_name)\n",
    "        return False\n",
    "    except:\n",
    "        os.mkdir(directory_name)\n",
    "        return True\n",
    "    \n",
    "def transformRaw(data, uniform_size):\n",
    "    makeDir()\n",
    "    #Takes the raw data from the directory and transforms it\n",
    "    if type(uniform_size)==int:\n",
    "        uniform_size = [uniform_size, uniform_size] #Python not having strong typing exploited here\n",
    "    \n",
    "    #Resize the data\n",
    "    return resizeData(data, len(data), uniform_size)\n",
    "\n",
    "def resizeData(data, num_elements, uniform_size):\n",
    "    #use numpy to reshape the data properly\n",
    "    a = np.array(data)\n",
    "    \n",
    "    return numpy.resize(a, [num_elements] + uniform_size)\n",
    "    \n",
    "def useRaw(root_directory):\n",
    "    if (makeDir()):\n",
    "        print(\"Raw data didn't exist before.\")\n",
    "    def getClass(data):\n",
    "        return #\n",
    "    \n",
    "    image_data = []\n",
    "    \n",
    "    image_data = iterateOverData(root_directory)\n",
    "    \n",
    "    return image_data\n",
    "\n",
    "\n",
    "def iterateOverData(directory):\n",
    "    data = []\n",
    "    for filname in os.listdir(directory):\n",
    "        if os.path.isdir(filename):\n",
    "            if filename!='..' and filename!='.':\n",
    "                data += iterateOverData(filename)\n",
    "        else:\n",
    "            data+=filename\n",
    "    return data"
   ]
  },
  {
   "cell_type": "code",
   "execution_count": 10,
   "metadata": {},
   "outputs": [
    {
     "data": {
      "text/plain": [
       "array([['hi', 'hi4'],\n",
       "       ['hi2', 'hi3']],\n",
       "      dtype='<U3')"
      ]
     },
     "execution_count": 10,
     "metadata": {},
     "output_type": "execute_result"
    }
   ],
   "source": [
    "#test code\n",
    "import numpy\n",
    "\n",
    "\n",
    "a = ['hi', 'hi4'] + ['hi2', 'hi3']\n",
    "numpy.resize(a,[2,2])"
   ]
  },
  {
   "cell_type": "code",
   "execution_count": null,
   "metadata": {
    "collapsed": true
   },
   "outputs": [],
   "source": []
  }
 ],
 "metadata": {
  "kernelspec": {
   "display_name": "Python 3",
   "language": "python",
   "name": "python3"
  },
  "language_info": {
   "codemirror_mode": {
    "name": "ipython",
    "version": 3
   },
   "file_extension": ".py",
   "mimetype": "text/x-python",
   "name": "python",
   "nbconvert_exporter": "python",
   "pygments_lexer": "ipython3",
   "version": "3.6.2"
  }
 },
 "nbformat": 4,
 "nbformat_minor": 2
}
