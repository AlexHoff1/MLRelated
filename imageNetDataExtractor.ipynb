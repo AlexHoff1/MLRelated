{
 "cells": [
  {
   "cell_type": "code",
   "execution_count": 1,
   "metadata": {},
   "outputs": [
    {
     "ename": "IndentationError",
     "evalue": "expected an indented block (<ipython-input-1-628e5a4ecaff>, line 6)",
     "output_type": "error",
     "traceback": [
      "\u001b[0;36m  File \u001b[0;32m\"<ipython-input-1-628e5a4ecaff>\"\u001b[0;36m, line \u001b[0;32m6\u001b[0m\n\u001b[0;31m    def transformRaw(data, uniform_size):\u001b[0m\n\u001b[0m      ^\u001b[0m\n\u001b[0;31mIndentationError\u001b[0m\u001b[0;31m:\u001b[0m expected an indented block\n"
     ]
    }
   ],
   "source": [
    "import os\n",
    "\n",
    "def makeDir():\n",
    "    # Makes the directory\n",
    "    return \"\"\n",
    "    \n",
    "def transformRaw(data, uniform_size):\n",
    "    #Takes the raw data from the directory and transforms it\n",
    "    if type(uniform_size)==int:\n",
    "        uniform_size = [uniform_size, uniform_size] #Python not having strong typing exploited here\n",
    "    \n",
    "    #Resize the data\n",
    "    return resizeData(data, uniform_size)\n",
    "\n",
    "def resizeData(data, uniform_size):\n",
    "    #import numpy\n",
    "    #use numpy\n",
    "    \n",
    "def useRaw(root_directory):\n",
    "    def getClass(data):\n",
    "        return #\n",
    "    \n",
    "    image_data = []\n",
    "    \n",
    "    image_data = iterateOverData(root_directory)\n",
    "    \n",
    "    return image_data\n",
    "\n",
    "\n",
    "def iterateOverData(directory):\n",
    "    data = []\n",
    "    for filname in os.listdir(directory):\n",
    "        if os.path.isdir(filename):\n",
    "            if filename!='..' and filename!='.':\n",
    "                data += iterateOverData(filename)\n",
    "        else:\n",
    "            data+=filename\n",
    "    return data"
   ]
  },
  {
   "cell_type": "code",
   "execution_count": null,
   "metadata": {
    "collapsed": true
   },
   "outputs": [],
   "source": []
  }
 ],
 "metadata": {
  "kernelspec": {
   "display_name": "Python 3",
   "language": "python",
   "name": "python3"
  },
  "language_info": {
   "codemirror_mode": {
    "name": "ipython",
    "version": 3
   },
   "file_extension": ".py",
   "mimetype": "text/x-python",
   "name": "python",
   "nbconvert_exporter": "python",
   "pygments_lexer": "ipython3",
   "version": "3.6.2"
  }
 },
 "nbformat": 4,
 "nbformat_minor": 2
}
