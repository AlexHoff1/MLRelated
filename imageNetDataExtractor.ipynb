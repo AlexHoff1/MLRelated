{
 "cells": [
  {
   "cell_type": "code",
   "execution_count": null,
   "metadata": {
    "collapsed": true
   },
   "outputs": [],
   "source": [
    "import os\n",
    "\n",
    "def makeDir():\n",
    "    # Makes the directory\n",
    "    \n",
    "def transformRaw():\n",
    "    #Takes the raw data from the directory and transforms it\n",
    "    \n",
    "def useRaw(root_directory):\n",
    "    def getClass(data):\n",
    "        return #\n",
    "    \n",
    "    image_data = []\n",
    "    \n",
    "    image_data = iterateOverData(root_directory)\n",
    "    \n",
    "    return image_data\n",
    "\n",
    "\n",
    "def iterateOverData(directory):\n",
    "    data = []\n",
    "    for filname in os.listdir(directory):\n",
    "        if os.path.isdir(filename):\n",
    "            if filename!='..' and filename!='.':\n",
    "                data += iterateOverData(filename)\n",
    "        else:\n",
    "            data+=filename\n",
    "    return data"
   ]
  }
 ],
 "metadata": {
  "kernelspec": {
   "display_name": "Python 3",
   "language": "python",
   "name": "python3"
  },
  "language_info": {
   "codemirror_mode": {
    "name": "ipython",
    "version": 3
   },
   "file_extension": ".py",
   "mimetype": "text/x-python",
   "name": "python",
   "nbconvert_exporter": "python",
   "pygments_lexer": "ipython3",
   "version": "3.6.2"
  }
 },
 "nbformat": 4,
 "nbformat_minor": 2
}
